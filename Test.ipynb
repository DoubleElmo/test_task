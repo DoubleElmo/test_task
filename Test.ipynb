{
 "cells": [
  {
   "cell_type": "code",
   "execution_count": 1,
   "metadata": {},
   "outputs": [],
   "source": [
    "import re  # импортируем модуль регулярок"
   ]
  },
  {
   "cell_type": "code",
   "execution_count": 2,
   "metadata": {},
   "outputs": [],
   "source": [
    "def ru_str_deleter(str_list):\n",
    "    new_list = []  # создаём пустой список с результатом, чтобы избежать ошибок\n",
    "    for instance in str_list:  # инициируем цикл для прохождения по каждой строке в списке\n",
    "        finder = re.findall(r'[а-яА-ЯёЁ]', instance)  # ищем все русские буквы в текущей строке\n",
    "        if len(finder) >= 2:  # смотрим, сколько букв нашли\n",
    "            new_list.append(instance)  # если нашли 2+ букв, то добавляем строку в пустой список\n",
    "    return new_list  # возвращаем список"
   ]
  },
  {
   "cell_type": "code",
   "execution_count": 3,
   "metadata": {},
   "outputs": [],
   "source": [
    "str_list1 = ['вашгпвагш76676378пм26', 'kjhgidfuhiu244', 'а', 'aa', 'аа']"
   ]
  },
  {
   "cell_type": "code",
   "execution_count": 4,
   "metadata": {},
   "outputs": [
    {
     "data": {
      "text/plain": [
       "['вашгпвагш76676378пм26', 'аа']"
      ]
     },
     "execution_count": 4,
     "metadata": {},
     "output_type": "execute_result"
    }
   ],
   "source": [
    "ru_str_deleter(str_list1)"
   ]
  },
  {
   "cell_type": "code",
   "execution_count": null,
   "metadata": {},
   "outputs": [],
   "source": []
  }
 ],
 "metadata": {
  "kernelspec": {
   "display_name": "Python 3",
   "language": "python",
   "name": "python3"
  },
  "language_info": {
   "codemirror_mode": {
    "name": "ipython",
    "version": 3
   },
   "file_extension": ".py",
   "mimetype": "text/x-python",
   "name": "python",
   "nbconvert_exporter": "python",
   "pygments_lexer": "ipython3",
   "version": "3.8.5"
  }
 },
 "nbformat": 4,
 "nbformat_minor": 4
}
